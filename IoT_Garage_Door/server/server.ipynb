{
 "cells": [
  {
   "cell_type": "code",
   "execution_count": 1,
   "metadata": {},
   "outputs": [],
   "source": [
    "DELAY = 0.1"
   ]
  },
  {
   "cell_type": "code",
   "execution_count": 2,
   "metadata": {},
   "outputs": [],
   "source": [
    "# from websocket import create_connection\n",
    "import asyncio\n",
    "import websockets\n",
    "import pandas as pd\n",
    "from sklearn.preprocessing import LabelEncoder\n",
    "from time import sleep"
   ]
  },
  {
   "cell_type": "code",
   "execution_count": 3,
   "metadata": {},
   "outputs": [],
   "source": [
    "# data = pd.read_csv(\"../data/IoT_Garage_Door.csv\", low_memory=False)\n",
    "data = pd.read_csv(\"../data/test_garage.csv\", low_memory=False)"
   ]
  },
  {
   "cell_type": "code",
   "execution_count": 4,
   "metadata": {},
   "outputs": [],
   "source": [
    "data = data.dropna()\n",
    "encoder=LabelEncoder()\n",
    "\n",
    "# For IoT_Garade_Door\n",
    "data['type']=encoder.fit_transform(data['type'])\n",
    "data['state']=encoder.fit_transform(data['state'])\n",
    "data['sphone_signal']=encoder.fit_transform(data['sphone_signal'])"
   ]
  },
  {
   "cell_type": "code",
   "execution_count": 5,
   "metadata": {},
   "outputs": [
    {
     "data": {
      "text/html": [
       "<div>\n",
       "<style scoped>\n",
       "    .dataframe tbody tr th:only-of-type {\n",
       "        vertical-align: middle;\n",
       "    }\n",
       "\n",
       "    .dataframe tbody tr th {\n",
       "        vertical-align: top;\n",
       "    }\n",
       "\n",
       "    .dataframe thead th {\n",
       "        text-align: right;\n",
       "    }\n",
       "</style>\n",
       "<table border=\"1\" class=\"dataframe\">\n",
       "  <thead>\n",
       "    <tr style=\"text-align: right;\">\n",
       "      <th></th>\n",
       "      <th>date</th>\n",
       "      <th>time</th>\n",
       "      <th>state</th>\n",
       "      <th>sphone_signal</th>\n",
       "      <th>label</th>\n",
       "      <th>type</th>\n",
       "    </tr>\n",
       "  </thead>\n",
       "  <tbody>\n",
       "    <tr>\n",
       "      <th>0</th>\n",
       "      <td>1-Apr-19</td>\n",
       "      <td>20:53:44</td>\n",
       "      <td>1</td>\n",
       "      <td>1</td>\n",
       "      <td>0</td>\n",
       "      <td>3</td>\n",
       "    </tr>\n",
       "    <tr>\n",
       "      <th>1</th>\n",
       "      <td>1-Apr-19</td>\n",
       "      <td>20:53:49</td>\n",
       "      <td>0</td>\n",
       "      <td>0</td>\n",
       "      <td>0</td>\n",
       "      <td>3</td>\n",
       "    </tr>\n",
       "    <tr>\n",
       "      <th>2</th>\n",
       "      <td>1-Apr-19</td>\n",
       "      <td>20:53:49</td>\n",
       "      <td>1</td>\n",
       "      <td>1</td>\n",
       "      <td>0</td>\n",
       "      <td>3</td>\n",
       "    </tr>\n",
       "    <tr>\n",
       "      <th>3</th>\n",
       "      <td>1-Apr-19</td>\n",
       "      <td>20:53:54</td>\n",
       "      <td>0</td>\n",
       "      <td>0</td>\n",
       "      <td>0</td>\n",
       "      <td>3</td>\n",
       "    </tr>\n",
       "    <tr>\n",
       "      <th>4</th>\n",
       "      <td>1-Apr-19</td>\n",
       "      <td>20:53:54</td>\n",
       "      <td>1</td>\n",
       "      <td>1</td>\n",
       "      <td>0</td>\n",
       "      <td>3</td>\n",
       "    </tr>\n",
       "  </tbody>\n",
       "</table>\n",
       "</div>"
      ],
      "text/plain": [
       "       date      time  state  sphone_signal  label  type\n",
       "0  1-Apr-19  20:53:44      1              1      0     3\n",
       "1  1-Apr-19  20:53:49      0              0      0     3\n",
       "2  1-Apr-19  20:53:49      1              1      0     3\n",
       "3  1-Apr-19  20:53:54      0              0      0     3\n",
       "4  1-Apr-19  20:53:54      1              1      0     3"
      ]
     },
     "execution_count": 5,
     "metadata": {},
     "output_type": "execute_result"
    }
   ],
   "source": [
    "data.head()"
   ]
  },
  {
   "cell_type": "code",
   "execution_count": 6,
   "metadata": {},
   "outputs": [
    {
     "name": "stderr",
     "output_type": "stream",
     "text": [
      "connection handler failed\n",
      "Traceback (most recent call last):\n",
      "  File \"/usr/local/lib/python3.10/dist-packages/websockets/legacy/server.py\", line 232, in handler\n",
      "    await self.ws_handler(self)\n",
      "  File \"/tmp/ipykernel_6030/3810110518.py\", line 8, in server\n",
      "    await websocket.send(rows[c])\n",
      "  File \"/usr/local/lib/python3.10/dist-packages/websockets/legacy/protocol.py\", line 620, in send\n",
      "    await self.ensure_open()\n",
      "  File \"/usr/local/lib/python3.10/dist-packages/websockets/legacy/protocol.py\", line 930, in ensure_open\n",
      "    raise self.connection_closed_exc()\n",
      "websockets.exceptions.ConnectionClosedOK: sent 1001 (going away); then received 1001 (going away)\n"
     ]
    },
    {
     "ename": "CancelledError",
     "evalue": "",
     "output_type": "error",
     "traceback": [
      "\u001b[0;31m---------------------------------------------------------------------------\u001b[0m",
      "\u001b[0;31mCancelledError\u001b[0m                            Traceback (most recent call last)",
      "\u001b[1;32m/mnt/DATA/Semester VI/CS1312 Big Data Engineering (IBM)/Project/Big Data Project/IoT_Garage_Door/server/server.ipynb Cell 6'\u001b[0m in \u001b[0;36m<cell line: 18>\u001b[0;34m()\u001b[0m\n\u001b[1;32m     <a href='vscode-notebook-cell:/mnt/DATA/Semester%20VI/CS1312%20Big%20Data%20Engineering%20%28IBM%29/Project/Big%20Data%20Project/IoT_Garage_Door/server/server.ipynb#ch0000005?line=14'>15</a>\u001b[0m     \u001b[39masync\u001b[39;00m \u001b[39mwith\u001b[39;00m websockets\u001b[39m.\u001b[39mserve(server, \u001b[39m\"\u001b[39m\u001b[39mlocalhost\u001b[39m\u001b[39m\"\u001b[39m, \u001b[39m8765\u001b[39m, ping_interval\u001b[39m=\u001b[39m\u001b[39mNone\u001b[39;00m):\n\u001b[1;32m     <a href='vscode-notebook-cell:/mnt/DATA/Semester%20VI/CS1312%20Big%20Data%20Engineering%20%28IBM%29/Project/Big%20Data%20Project/IoT_Garage_Door/server/server.ipynb#ch0000005?line=15'>16</a>\u001b[0m         \u001b[39mawait\u001b[39;00m asyncio\u001b[39m.\u001b[39mFuture()  \u001b[39m# run forever\u001b[39;00m\n\u001b[0;32m---> <a href='vscode-notebook-cell:/mnt/DATA/Semester%20VI/CS1312%20Big%20Data%20Engineering%20%28IBM%29/Project/Big%20Data%20Project/IoT_Garage_Door/server/server.ipynb#ch0000005?line=17'>18</a>\u001b[0m \u001b[39mawait\u001b[39;00m main()\n",
      "\u001b[1;32m/mnt/DATA/Semester VI/CS1312 Big Data Engineering (IBM)/Project/Big Data Project/IoT_Garage_Door/server/server.ipynb Cell 6'\u001b[0m in \u001b[0;36mmain\u001b[0;34m()\u001b[0m\n\u001b[1;32m     <a href='vscode-notebook-cell:/mnt/DATA/Semester%20VI/CS1312%20Big%20Data%20Engineering%20%28IBM%29/Project/Big%20Data%20Project/IoT_Garage_Door/server/server.ipynb#ch0000005?line=13'>14</a>\u001b[0m \u001b[39masync\u001b[39;00m \u001b[39mdef\u001b[39;00m \u001b[39mmain\u001b[39m():\n\u001b[1;32m     <a href='vscode-notebook-cell:/mnt/DATA/Semester%20VI/CS1312%20Big%20Data%20Engineering%20%28IBM%29/Project/Big%20Data%20Project/IoT_Garage_Door/server/server.ipynb#ch0000005?line=14'>15</a>\u001b[0m     \u001b[39masync\u001b[39;00m \u001b[39mwith\u001b[39;00m websockets\u001b[39m.\u001b[39mserve(server, \u001b[39m\"\u001b[39m\u001b[39mlocalhost\u001b[39m\u001b[39m\"\u001b[39m, \u001b[39m8765\u001b[39m, ping_interval\u001b[39m=\u001b[39m\u001b[39mNone\u001b[39;00m):\n\u001b[0;32m---> <a href='vscode-notebook-cell:/mnt/DATA/Semester%20VI/CS1312%20Big%20Data%20Engineering%20%28IBM%29/Project/Big%20Data%20Project/IoT_Garage_Door/server/server.ipynb#ch0000005?line=15'>16</a>\u001b[0m         \u001b[39mawait\u001b[39;00m asyncio\u001b[39m.\u001b[39mFuture()\n",
      "\u001b[0;31mCancelledError\u001b[0m: "
     ]
    }
   ],
   "source": [
    "async def server(websocket):\n",
    "    temp = data.to_string(header=False,index=False,\n",
    "                  index_names=False).split('\\n')\n",
    "    rows = [','.join(ele.split()) for ele in temp]\n",
    "    # row = await websocket.recv()\n",
    "    c=0\n",
    "    while(len(data)>=c):\n",
    "        await websocket.send(rows[c])\n",
    "        ok = await websocket.recv()\n",
    "        if(bool(ok)):\n",
    "            c+=1\n",
    "        sleep(DELAY)\n",
    "\n",
    "async def main():\n",
    "    async with websockets.serve(server, \"localhost\", 8765, ping_interval=None):\n",
    "        await asyncio.Future()  # run forever\n",
    "\n",
    "await main()"
   ]
  }
 ],
 "metadata": {
  "kernelspec": {
   "display_name": "Python 3.10.4 64-bit",
   "language": "python",
   "name": "python3"
  },
  "language_info": {
   "codemirror_mode": {
    "name": "ipython",
    "version": 3
   },
   "file_extension": ".py",
   "mimetype": "text/x-python",
   "name": "python",
   "nbconvert_exporter": "python",
   "pygments_lexer": "ipython3",
   "version": "3.10.4"
  },
  "orig_nbformat": 4,
  "vscode": {
   "interpreter": {
    "hash": "916dbcbb3f70747c44a77c7bcd40155683ae19c65e1c03b4aa3499c5328201f1"
   }
  }
 },
 "nbformat": 4,
 "nbformat_minor": 2
}
