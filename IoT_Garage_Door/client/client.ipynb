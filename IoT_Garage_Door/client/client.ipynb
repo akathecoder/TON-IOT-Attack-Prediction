{
 "cells": [
  {
   "cell_type": "code",
   "execution_count": 1,
   "metadata": {},
   "outputs": [],
   "source": [
    "# from websocket import create_connection\n",
    "import websockets\n",
    "from datetime import datetime\n",
    "import pandas as pd\n",
    "from sklearn.model_selection import train_test_split\n",
    "from sklearn.ensemble import VotingClassifier\n",
    "import pickle\n",
    "from sklearn.metrics import accuracy_score\n",
    "# from keras.models import load_model\n",
    "# from keras.wrappers.scikit_learn import KerasClassifier"
   ]
  },
  {
   "cell_type": "code",
   "execution_count": 2,
   "metadata": {},
   "outputs": [],
   "source": [
    "# model1 = load_model('../models/h5s/LSTM.h5')\n",
    "# model1 = KerasClassifier(build_fn=model1)\n",
    "# model1._estimator_type = \"classifier\"\n",
    "# model2 = load_model('../models/h5s/GRU.h5')\n",
    "# model2 = KerasClassifier(build_fn=model2)\n",
    "# model2._estimator_type = \"classifier\"\n",
    "model3 = pickle.load(open('../models/h5s/random-forest.h5', 'rb'))\n",
    "model4 = pickle.load(open('../models/h5s/logistic-regression.h5', 'rb'))\n",
    "model5 = pickle.load(open('../models/h5s/linear-discriminant-analysis.h5', 'rb'))\n",
    "model6 = pickle.load(open('../models/h5s/kNN.h5', 'rb'))\n",
    "model7 = pickle.load(open('../models/h5s/CART.h5', 'rb'))\n",
    "model8 = pickle.load(open('../models/h5s/support-vector-machine.h5', 'rb'))\n",
    "model9 = pickle.load(open('../models/h5s/naive-bayes.h5', 'rb'))"
   ]
  },
  {
   "cell_type": "code",
   "execution_count": 3,
   "metadata": {},
   "outputs": [],
   "source": [
    "def log(content, new=False, file='stream.log', timestamp=False, print_line=0):\n",
    "    if(new):\n",
    "        log = open(f'./{file}', 'w')\n",
    "        log.write(\"\")\n",
    "        log.close()\n",
    "    log = open(f'./{file}', 'a')\n",
    "\n",
    "    if(timestamp):\n",
    "        log.write(f\"\\n{datetime.now()} ~ {content}\")\n",
    "    else:\n",
    "        log.write(content)\n",
    "    \n",
    "    if(print_line):\n",
    "        line = \"-\" * print_line\n",
    "        log.write(f\"\\n{line}\\n\\n\")\n",
    "    log.close()\n"
   ]
  },
  {
   "cell_type": "code",
   "execution_count": 4,
   "metadata": {},
   "outputs": [],
   "source": [
    "async def ensemble(IoT, chunk_count, initial=False):\n",
    "    x = IoT.drop(['label', 'date', 'time'], axis=1)\n",
    "    y = IoT['label']\n",
    "    x_train,x_test,y_train,y_test = train_test_split(x, y, test_size=0.2)\n",
    " \n",
    "    voting = VotingClassifier(estimators=[('SVM', model8), ('LR', model4), ('RF', model3), ('LDA', model5), ('KNN', model6), ('CART', model7), ('Naive-Bayes', model9)], voting='hard')\n",
    "    voting.fit(x_train, y_train) \n",
    "    if(not initial):\n",
    "        log(f\"\", file=\"ensemble.log\", print_line=20)\n",
    "\n",
    "    log(f\"Model v{chunk_count}\\n\", initial, file=\"ensemble.log\", timestamp=True)\n",
    "\n",
    "    for clf in (model8, model4, model3, model5, model6, model7, model9, voting):\n",
    "        clf.fit(x_train, y_train)\n",
    "        y_pred = clf.predict(x_test)\n",
    "        log(f\"{clf.__class__.__name__}: {accuracy_score(y_test, y_pred)}\\n\", file=\"ensemble.log\")\n",
    "\n",
    "    return voting"
   ]
  },
  {
   "cell_type": "code",
   "execution_count": 5,
   "metadata": {},
   "outputs": [
    {
     "ename": "ConnectionClosedOK",
     "evalue": "received 1001 (going away); then sent 1001 (going away)",
     "output_type": "error",
     "traceback": [
      "\u001b[0;31m---------------------------------------------------------------------------\u001b[0m",
      "\u001b[0;31mConnectionClosedOK\u001b[0m                        Traceback (most recent call last)",
      "\u001b[1;32m/mnt/DATA/Semester VI/CS1312 Big Data Engineering (IBM)/Project/Big Data Project/IoT_Garage_Door/client/client.ipynb Cell 5'\u001b[0m in \u001b[0;36m<cell line: 58>\u001b[0;34m()\u001b[0m\n\u001b[1;32m     <a href='vscode-notebook-cell:/mnt/DATA/Semester%20VI/CS1312%20Big%20Data%20Engineering%20%28IBM%29/Project/Big%20Data%20Project/IoT_Garage_Door/client/client.ipynb#ch0000004?line=53'>54</a>\u001b[0m                         chunk_size \u001b[39m*\u001b[39m\u001b[39m=\u001b[39m CHUNK_SIZE_INCREMENT_FACTOR\n\u001b[1;32m     <a href='vscode-notebook-cell:/mnt/DATA/Semester%20VI/CS1312%20Big%20Data%20Engineering%20%28IBM%29/Project/Big%20Data%20Project/IoT_Garage_Door/client/client.ipynb#ch0000004?line=55'>56</a>\u001b[0m             \u001b[39mawait\u001b[39;00m websocket\u001b[39m.\u001b[39msend(\u001b[39m\"\u001b[39m\u001b[39m1\u001b[39m\u001b[39m\"\u001b[39m)\n\u001b[0;32m---> <a href='vscode-notebook-cell:/mnt/DATA/Semester%20VI/CS1312%20Big%20Data%20Engineering%20%28IBM%29/Project/Big%20Data%20Project/IoT_Garage_Door/client/client.ipynb#ch0000004?line=57'>58</a>\u001b[0m \u001b[39mawait\u001b[39;00m client()\n",
      "\u001b[1;32m/mnt/DATA/Semester VI/CS1312 Big Data Engineering (IBM)/Project/Big Data Project/IoT_Garage_Door/client/client.ipynb Cell 5'\u001b[0m in \u001b[0;36mclient\u001b[0;34m()\u001b[0m\n\u001b[1;32m     <a href='vscode-notebook-cell:/mnt/DATA/Semester%20VI/CS1312%20Big%20Data%20Engineering%20%28IBM%29/Project/Big%20Data%20Project/IoT_Garage_Door/client/client.ipynb#ch0000004?line=13'>14</a>\u001b[0m df \u001b[39m=\u001b[39m pd\u001b[39m.\u001b[39mDataFrame()\n\u001b[1;32m     <a href='vscode-notebook-cell:/mnt/DATA/Semester%20VI/CS1312%20Big%20Data%20Engineering%20%28IBM%29/Project/Big%20Data%20Project/IoT_Garage_Door/client/client.ipynb#ch0000004?line=14'>15</a>\u001b[0m \u001b[39mwhile\u001b[39;00m(\u001b[39mTrue\u001b[39;00m):\n\u001b[0;32m---> <a href='vscode-notebook-cell:/mnt/DATA/Semester%20VI/CS1312%20Big%20Data%20Engineering%20%28IBM%29/Project/Big%20Data%20Project/IoT_Garage_Door/client/client.ipynb#ch0000004?line=15'>16</a>\u001b[0m     row \u001b[39m=\u001b[39m \u001b[39mawait\u001b[39;00m websocket\u001b[39m.\u001b[39mrecv()\n\u001b[1;32m     <a href='vscode-notebook-cell:/mnt/DATA/Semester%20VI/CS1312%20Big%20Data%20Engineering%20%28IBM%29/Project/Big%20Data%20Project/IoT_Garage_Door/client/client.ipynb#ch0000004?line=16'>17</a>\u001b[0m     log(\u001b[39mf\u001b[39m\u001b[39m\"\u001b[39m\u001b[39m{\u001b[39;00mtemp_row_count\u001b[39m}\u001b[39;00m\u001b[39m \u001b[39m\u001b[39m\"\u001b[39m)\n\u001b[1;32m     <a href='vscode-notebook-cell:/mnt/DATA/Semester%20VI/CS1312%20Big%20Data%20Engineering%20%28IBM%29/Project/Big%20Data%20Project/IoT_Garage_Door/client/client.ipynb#ch0000004?line=17'>18</a>\u001b[0m     data_list \u001b[39m=\u001b[39m row\u001b[39m.\u001b[39msplit(\u001b[39m\"\u001b[39m\u001b[39m,\u001b[39m\u001b[39m\"\u001b[39m)\n",
      "File \u001b[0;32m/usr/local/lib/python3.10/dist-packages/websockets/legacy/protocol.py:553\u001b[0m, in \u001b[0;36mWebSocketCommonProtocol.recv\u001b[0;34m(self)\u001b[0m\n\u001b[1;32m    549\u001b[0m             \u001b[39mreturn\u001b[39;00m \u001b[39mNone\u001b[39;00m  \u001b[39m# type: ignore\u001b[39;00m\n\u001b[1;32m    550\u001b[0m         \u001b[39melse\u001b[39;00m:\n\u001b[1;32m    551\u001b[0m             \u001b[39m# Wait until the connection is closed to raise\u001b[39;00m\n\u001b[1;32m    552\u001b[0m             \u001b[39m# ConnectionClosed with the correct code and reason.\u001b[39;00m\n\u001b[0;32m--> 553\u001b[0m             \u001b[39mawait\u001b[39;00m \u001b[39mself\u001b[39m\u001b[39m.\u001b[39mensure_open()\n\u001b[1;32m    555\u001b[0m \u001b[39m# Pop a message from the queue.\u001b[39;00m\n\u001b[1;32m    556\u001b[0m message \u001b[39m=\u001b[39m \u001b[39mself\u001b[39m\u001b[39m.\u001b[39mmessages\u001b[39m.\u001b[39mpopleft()\n",
      "File \u001b[0;32m/usr/local/lib/python3.10/dist-packages/websockets/legacy/protocol.py:930\u001b[0m, in \u001b[0;36mWebSocketCommonProtocol.ensure_open\u001b[0;34m(self)\u001b[0m\n\u001b[1;32m    923\u001b[0m \u001b[39mif\u001b[39;00m \u001b[39mself\u001b[39m\u001b[39m.\u001b[39mstate \u001b[39mis\u001b[39;00m State\u001b[39m.\u001b[39mCLOSING:\n\u001b[1;32m    924\u001b[0m     \u001b[39m# If we started the closing handshake, wait for its completion to\u001b[39;00m\n\u001b[1;32m    925\u001b[0m     \u001b[39m# get the proper close code and reason. self.close_connection_task\u001b[39;00m\n\u001b[1;32m    926\u001b[0m     \u001b[39m# will complete within 4 or 5 * close_timeout after close(). The\u001b[39;00m\n\u001b[1;32m    927\u001b[0m     \u001b[39m# CLOSING state also occurs when failing the connection. In that\u001b[39;00m\n\u001b[1;32m    928\u001b[0m     \u001b[39m# case self.close_connection_task will complete even faster.\u001b[39;00m\n\u001b[1;32m    929\u001b[0m     \u001b[39mawait\u001b[39;00m asyncio\u001b[39m.\u001b[39mshield(\u001b[39mself\u001b[39m\u001b[39m.\u001b[39mclose_connection_task)\n\u001b[0;32m--> 930\u001b[0m     \u001b[39mraise\u001b[39;00m \u001b[39mself\u001b[39m\u001b[39m.\u001b[39mconnection_closed_exc()\n\u001b[1;32m    932\u001b[0m \u001b[39m# Control may only reach this point in buggy third-party subclasses.\u001b[39;00m\n\u001b[1;32m    933\u001b[0m \u001b[39massert\u001b[39;00m \u001b[39mself\u001b[39m\u001b[39m.\u001b[39mstate \u001b[39mis\u001b[39;00m State\u001b[39m.\u001b[39mCONNECTING\n",
      "\u001b[0;31mConnectionClosedOK\u001b[0m: received 1001 (going away); then sent 1001 (going away)"
     ]
    }
   ],
   "source": [
    "INITIAL_CHUNK_SIZE = 50\n",
    "FINAL_CHUNK_SIZE = 20\n",
    "CHUNK_SIZE_INCREMENT_FACTOR = 2\n",
    "\n",
    "async def client():\n",
    "    uri = \"ws://localhost:8765\"\n",
    "    temp_row_count = 0\n",
    "    chunk_size = INITIAL_CHUNK_SIZE\n",
    "    chunk_count = 0\n",
    "    initial_chunk = True\n",
    "    model = 0\n",
    "    log(\"\", True)\n",
    "    async with websockets.connect(uri, ping_interval=None) as websocket:\n",
    "        df = pd.DataFrame()\n",
    "        while(True):\n",
    "            row = await websocket.recv()\n",
    "            log(f\"{temp_row_count} \")\n",
    "            data_list = row.split(\",\")\n",
    "\n",
    "            if(temp_row_count == 0):\n",
    "                df = pd.DataFrame()\n",
    "                df = pd.DataFrame([data_list], columns = [\"date\", \"time\", \"state\", \"sphone_signal\", \"label\", \"type\"])\n",
    "            else:\n",
    "                df = pd.concat([df, pd.DataFrame([data_list], columns = [\"date\", \"time\", \"state\", \"sphone_signal\", \"label\", \"type\"])])\n",
    "            temp_row_count += 1\n",
    "            \n",
    "            if (temp_row_count == chunk_size):\n",
    "                if(initial_chunk):\n",
    "                    try:\n",
    "                        model = await ensemble(df, chunk_count+1, initial=True)\n",
    "                        initial_chunk = False\n",
    "                        chunk_count += 1\n",
    "                        log(f\"Chunk-{chunk_count} created with {temp_row_count} records.\", timestamp=True, print_line=50)\n",
    "                        chunk_size = FINAL_CHUNK_SIZE\n",
    "                        temp_row_count = 0\n",
    "                    except ValueError:\n",
    "                        # print(sys.exc_info())\n",
    "                        log(\"CLASS ERROR\\n\", timestamp=True)\n",
    "                        chunk_size *= CHUNK_SIZE_INCREMENT_FACTOR\n",
    "                else:\n",
    "                    try:\n",
    "                        model1 = await ensemble(df, chunk_count+1)\n",
    "                        ensemble_model = VotingClassifier(estimators=[('New Model', model1), ('Old Model', model)], voting='hard')\n",
    "                        # filename = 'model/ensmeble_model.h5'\n",
    "                        # pickle.dump(ensemble_model, open(filename, 'wb'))\n",
    "                        model = ensemble_model\n",
    "                        chunk_count += 1\n",
    "                        log(f\"Chunk-{chunk_count} created with {temp_row_count} records.\", timestamp=True, print_line=50)\n",
    "                        chunk_size = FINAL_CHUNK_SIZE\n",
    "                        temp_row_count = 0\n",
    "                    except ValueError:\n",
    "                        # print(sys.exc_info())\n",
    "                        log(\"CLASS ERROR\\n\", timestamp=True)\n",
    "                        chunk_size *= CHUNK_SIZE_INCREMENT_FACTOR\n",
    "\n",
    "            await websocket.send(\"1\")\n",
    "\n",
    "await client() "
   ]
  }
 ],
 "metadata": {
  "kernelspec": {
   "display_name": "Python 3.10.4 64-bit",
   "language": "python",
   "name": "python3"
  },
  "language_info": {
   "codemirror_mode": {
    "name": "ipython",
    "version": 3
   },
   "file_extension": ".py",
   "mimetype": "text/x-python",
   "name": "python",
   "nbconvert_exporter": "python",
   "pygments_lexer": "ipython3",
   "version": "3.10.4"
  },
  "orig_nbformat": 4,
  "vscode": {
   "interpreter": {
    "hash": "916dbcbb3f70747c44a77c7bcd40155683ae19c65e1c03b4aa3499c5328201f1"
   }
  }
 },
 "nbformat": 4,
 "nbformat_minor": 2
}
