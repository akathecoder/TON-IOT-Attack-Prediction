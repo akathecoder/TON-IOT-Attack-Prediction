{
 "cells": [
  {
   "cell_type": "markdown",
   "metadata": {},
   "source": [
    "### Data Cleaning and Preprocessing\n",
    "1. Dropping NaN values\n",
    "2. Converting variables to appropriate data types\n",
    "3. Grouping data by `date-time` and keeping mode value. Final intended output is uniquely timestamped records.\n",
    "\n",
    "<br>\n",
    "<br>\n",
    "<br>"
   ]
  },
  {
   "cell_type": "code",
   "execution_count": 1,
   "metadata": {},
   "outputs": [],
   "source": [
    "# Importing required modules\n",
    "\n",
    "import pandas as pd\n",
    "from datetime import datetime"
   ]
  },
  {
   "cell_type": "code",
   "execution_count": 3,
   "metadata": {},
   "outputs": [],
   "source": [
    "# Reading csv files of raw data for all IoT devices\n",
    "\n",
    "IoT_Fridge = pd.read_csv(\"./raw_data/IoT_Fridge.csv\", low_memory=False)\n",
    "IoT_Garage_Door = pd.read_csv(\"./raw_data/IoT_Garage_Door.csv\", low_memory=False)\n",
    "IoT_Motion_Light = pd.read_csv(\"./raw_data/IoT_Motion_Light.csv\", low_memory=False)\n",
    "IoT_GPS_Tracker = pd.read_csv(\"./raw_data/IoT_GPS_Tracker.csv\", low_memory=False)\n",
    "IoT_Modbus = pd.read_csv(\"./raw_data/IoT_Modbus.csv\", low_memory=False)\n",
    "IoT_Motion_Light = pd.read_csv(\"./raw_data/IoT_Motion_Light.csv\", low_memory=False)\n",
    "IoT_Thermostat = pd.read_csv(\"./raw_data/IoT_Thermostat.csv\", low_memory=False)\n",
    "IoT_Weather = pd.read_csv(\"./raw_data/IoT_Weather.csv\", low_memory=False)\n"
   ]
  },
  {
   "cell_type": "code",
   "execution_count": null,
   "metadata": {},
   "outputs": [],
   "source": [
    "# Function for precessing data, to be called upon each dataset\n",
    "\n",
    "def processData(df, name):\n",
    "    # Remove NaN values\n",
    "    df.dropna(how='any', inplace=True)\n",
    "\n",
    "    # infer and convert to pandas datatypes\n",
    "    df = df.convert_dtypes(infer_objects=True, convert_string=True,\n",
    "                      convert_integer=True, convert_boolean=True, convert_floating=True)\n",
    "\n",
    "    # # remove whitespaces\n",
    "    # cols = df.select_dtypes().columns\n",
    "    # df[cols] = df[cols].apply(lambda x: x.str.strip())\n",
    "\n",
    "    # merge 'date' and 'time' columns into 'date-time'\n",
    "    df['date-time'] = df[['date', 'time']].agg(' '.join, axis=1)\n",
    "    df.drop('date', inplace=True, axis=1)   # Remove 'date' column\n",
    "    df.drop('time', inplace=True, axis=1)   # Remove 'time' column\n",
    "\n",
    "    # convert 'date-time' from string to pandas datetime datatype\n",
    "    df['date-time'] = pd.to_datetime(df['date-time'], format='%d-%b-%y %H:%M:%S')\n",
    "\n",
    "    # infer datatypes once again\n",
    "    print(df.convert_dtypes(infer_objects=True, convert_string=True,\n",
    "          convert_integer=True, convert_boolean=True, convert_floating=True).dtypes)\n",
    "\n",
    "    # group data by 'date-time' and selecting mode(or the first value incase all are distinct) for that row\n",
    "    df = df.groupby(by='date-time').agg(lambda x: pd.Series.mode(x)[0])\n",
    "\n",
    "    # save this processed data as csv\n",
    "    df.to_csv(f\"./processed_data/{name}.csv\")\n",
    "    print()\n",
    "    print()\n",
    "\n",
    "\n",
    "processData(IoT_Fridge, \"IoT_Fridge\")\n",
    "processData(IoT_Garage_Door, \"IoT_Garage_Door\")\n",
    "processData(IoT_GPS_Tracker, \"IoT_GPS_Tracker\")\n",
    "processData(IoT_Modbus, \"IoT_Modbus\")\n",
    "processData(IoT_Motion_Light, \"IoT_Motion_Light\")\n",
    "processData(IoT_Thermostat, \"IoT_Thermostat\")\n",
    "processData(IoT_Weather, \"IoT_Weather\")"
   ]
  },
  {
   "cell_type": "markdown",
   "metadata": {},
   "source": [
    "<br>\n",
    "<br>\n",
    "<center><b>End of File</b></center>"
   ]
  }
 ],
 "metadata": {
  "kernelspec": {
   "display_name": "Python 3.10.4 64-bit",
   "language": "python",
   "name": "python3"
  },
  "language_info": {
   "codemirror_mode": {
    "name": "ipython",
    "version": 3
   },
   "file_extension": ".py",
   "mimetype": "text/x-python",
   "name": "python",
   "nbconvert_exporter": "python",
   "pygments_lexer": "ipython3",
   "version": "3.10.4"
  },
  "orig_nbformat": 4,
  "vscode": {
   "interpreter": {
    "hash": "916dbcbb3f70747c44a77c7bcd40155683ae19c65e1c03b4aa3499c5328201f1"
   }
  }
 },
 "nbformat": 4,
 "nbformat_minor": 2
}
